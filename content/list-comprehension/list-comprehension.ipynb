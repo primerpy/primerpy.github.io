{
 "cells": [
  {
   "cell_type": "markdown",
   "metadata": {},
   "source": [
    "# List Comprehension\n",
    "\n",
    "Python includes a more advanced operation called list comprehensions, which allow to build out lists/dictionaries using a more Pythonic manner\n",
    "<a id=\"toc\"></a>\n",
    "\n",
    "## - [Regular List Comprehension](#regular-list-comprehension)\n",
    "## - [Conditional List Comprehension](#conditional-list-comprehension)\n",
    "## - [Nested List Comprehension](#nested-list-comprehension)\n",
    "## - [Dictionary Comprehension](#dictionary-comprehension)"
   ]
  },
  {
   "cell_type": "markdown",
   "metadata": {},
   "source": [
    "## Regular List Comprehension\n",
    "[Return](#toc)\n",
    "<a id=\"regular-list-comprehension\"></a>\n",
    "\n",
    "### Create a list via loop\n",
    "\n",
    "However loops are inefficient"
   ]
  },
  {
   "cell_type": "code",
   "execution_count": 3,
   "metadata": {},
   "outputs": [
    {
     "name": "stdout",
     "output_type": "stream",
     "text": [
      "['w', 'o', 'r', 'd']\n"
     ]
    }
   ],
   "source": [
    "l = []\n",
    "for letter in \"word\":\n",
    "    l.append(letter)\n",
    "\n",
    "print(l)"
   ]
  },
  {
   "cell_type": "markdown",
   "metadata": {},
   "source": [
    "### Using List Comprehension"
   ]
  },
  {
   "cell_type": "code",
   "execution_count": 4,
   "metadata": {},
   "outputs": [
    {
     "name": "stdout",
     "output_type": "stream",
     "text": [
      "['w', 'o', 'r', 'l', 'd']\n"
     ]
    }
   ],
   "source": [
    "l = [letter for letter in \"world\"]\n",
    "print(l)"
   ]
  },
  {
   "cell_type": "code",
   "execution_count": 5,
   "metadata": {},
   "outputs": [
    {
     "name": "stdout",
     "output_type": "stream",
     "text": [
      "[0, 1, 4, 9, 16, 25, 36, 49, 64, 81, 100]\n"
     ]
    }
   ],
   "source": [
    "lst = [x ** 2 for x in range(11)]\n",
    "print(lst)"
   ]
  },
  {
   "cell_type": "code",
   "execution_count": 6,
   "metadata": {},
   "outputs": [
    {
     "name": "stdout",
     "output_type": "stream",
     "text": [
      "[32.0, 75.2, 100.4, 104.0, 89.15]\n"
     ]
    }
   ],
   "source": [
    "# Celsuis to Fahrenheit\n",
    "celsius_list = [0,24,38,40,31.75]\n",
    "fahrenheit_list = [temp * 9 /5 + 32 for temp in celsius_list]\n",
    "print(fahrenheit_list)"
   ]
  },
  {
   "cell_type": "markdown",
   "metadata": {},
   "source": [
    "## Conditional List Comprehension\n",
    "[Return](#toc)\n",
    "<a id=\"conditional-list-comprehension\"></a>\n",
    "Build a even number list"
   ]
  },
  {
   "cell_type": "code",
   "execution_count": 7,
   "metadata": {},
   "outputs": [
    {
     "name": "stdout",
     "output_type": "stream",
     "text": [
      "[0, 2, 4, 6, 8, 10, 12, 14, 16, 18, 20, 22, 24, 26, 28, 30, 32, 34, 36, 38, 40, 42, 44, 46, 48, 50, 52, 54]\n"
     ]
    }
   ],
   "source": [
    "even_list = [x for x in range(55) if x % 2 == 0]\n",
    "print(even_list)"
   ]
  },
  {
   "cell_type": "markdown",
   "metadata": {},
   "source": [
    "## Nested List Comprehension\n",
    "[Return](#toc)\n",
    "<a id=\"nested-list-comprehension\"></a>\n",
    "\n",
    "List comprehension returns a list which in turn can be used for further comprehension as well."
   ]
  },
  {
   "cell_type": "code",
   "execution_count": 8,
   "metadata": {},
   "outputs": [
    {
     "name": "stdout",
     "output_type": "stream",
     "text": [
      "[0.0, 0.3333333333333333, 0.47140452079103173, 0.5773502691896257, 0.6666666666666666, 0.7453559924999299, 0.8164965809277259, 0.8819171036881969, 0.9428090415820635, 1.0, 1.0540925533894598]\n"
     ]
    }
   ],
   "source": [
    "square_root_cube = [x ** 1/3 for x in [x ** 0.5 for x in range(11)]]\n",
    "print(square_root_cube)"
   ]
  },
  {
   "cell_type": "markdown",
   "metadata": {},
   "source": [
    "## Dictionary Comprehension\n",
    "[Return](#toc)\n",
    "<a id=\"dictionary-comprehension\"></a>\n",
    "In addition to list comprehension, dictionary comprehension is also available\n"
   ]
  },
  {
   "cell_type": "code",
   "execution_count": 10,
   "metadata": {},
   "outputs": [
    {
     "name": "stdout",
     "output_type": "stream",
     "text": [
      "{'JavaScript': 1604219, 'Java': 763783, 'Python': 744045, 'Ruby': 740610, 'PHP': 478152}\n"
     ]
    }
   ],
   "source": [
    "languages = [\"JavaScript\", \"Java\", \"Python\", \"Ruby\", \"PHP\"]\n",
    "searches = [1604219, 763783, 744045, 740610, 478152]\n",
    "lang_search = {k:v for k,v in zip(languages, searches)}\n",
    "print(lang_search)"
   ]
  },
  {
   "cell_type": "code",
   "execution_count": null,
   "metadata": {
    "collapsed": true
   },
   "outputs": [],
   "source": []
  },
  {
   "cell_type": "code",
   "execution_count": null,
   "metadata": {
    "collapsed": true
   },
   "outputs": [],
   "source": []
  }
 ],
 "metadata": {
  "kernelspec": {
   "display_name": "Python 3",
   "language": "python",
   "name": "python3"
  },
  "language_info": {
   "codemirror_mode": {
    "name": "ipython",
    "version": 3
   },
   "file_extension": ".py",
   "mimetype": "text/x-python",
   "name": "python",
   "nbconvert_exporter": "python",
   "pygments_lexer": "ipython3",
   "version": "3.6.1"
  }
 },
 "nbformat": 4,
 "nbformat_minor": 2
}
