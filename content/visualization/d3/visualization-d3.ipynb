{
 "cells": [
  {
   "cell_type": "markdown",
   "metadata": {},
   "source": [
    "This notebook demonstrates a few D3 charts plotted inline using the `%%d3` line magic."
   ]
  },
  {
   "cell_type": "code",
   "execution_count": 10,
   "metadata": {},
   "outputs": [
    {
     "name": "stdout",
     "output_type": "stream",
     "text": [
      "The py_d3 extension is already loaded. To reload it, use:\n",
      "  %reload_ext py_d3\n"
     ]
    }
   ],
   "source": [
    "%load_ext py_d3"
   ]
  },
  {
   "cell_type": "markdown",
   "metadata": {},
   "source": [
    "**Obligatory Hello World**"
   ]
  },
  {
   "cell_type": "code",
   "execution_count": 11,
   "metadata": {},
   "outputs": [
    {
     "data": {
      "text/html": [
       "\n",
       "<script>\n",
       "requirejs.config({\n",
       "    paths: {\n",
       "        d3: \"//cdnjs.cloudflare.com/ajax/libs/d3/3.5.17/d3\"\n",
       "    }\n",
       "});\n",
       "\n",
       "require(['d3'], function(d3) {\n",
       "    window.d3 = d3;\n",
       "});\n",
       "</script>\n",
       "<script>\n",
       "_select = d3.select;\n",
       "\n",
       "d3.select2 = function(selection) {\n",
       "    return _select(\"#d3-cell-2\").select(selection);\n",
       "}\n",
       "d3.selectAll2 = function(selection) {\n",
       "    return _select(\"#d3-cell-2\").selectAll(selection);\n",
       "}\n",
       "</script>\n",
       "<g id=\"d3-cell-2\">\n",
       "\n",
       "<g></g>\n",
       "\n",
       "<script>\n",
       "d3.select2(\"g\").text(\"Hello World\");\n",
       "</script>\n",
       "</g>"
      ],
      "text/plain": [
       "<IPython.core.display.HTML object>"
      ]
     },
     "metadata": {},
     "output_type": "display_data"
    }
   ],
   "source": [
    "%%d3\n",
    "\n",
    "<g></g>\n",
    "\n",
    "<script>\n",
    "d3.select(\"g\").text(\"Hello World\");\n",
    "</script>"
   ]
  },
  {
   "cell_type": "markdown",
   "metadata": {},
   "source": [
    "**Let's Make a Bar Chart Example**\n",
    "\n",
    "Source: http://alignedleft.com/tutorials/d3/making-a-bar-chart"
   ]
  },
  {
   "cell_type": "code",
   "execution_count": 12,
   "metadata": {},
   "outputs": [
    {
     "data": {
      "text/html": [
       "\n",
       "<script>\n",
       "requirejs.config({\n",
       "    paths: {\n",
       "        d3: \"//cdnjs.cloudflare.com/ajax/libs/d3/3.5.17/d3\"\n",
       "    }\n",
       "});\n",
       "\n",
       "require(['d3'], function(d3) {\n",
       "    window.d3 = d3;\n",
       "});\n",
       "</script>\n",
       "<script>\n",
       "_select = d3.select;\n",
       "\n",
       "d3.select3 = function(selection) {\n",
       "    return _select(\"#d3-cell-3\").select(selection);\n",
       "}\n",
       "d3.selectAll3 = function(selection) {\n",
       "    return _select(\"#d3-cell-3\").selectAll(selection);\n",
       "}\n",
       "</script>\n",
       "<g id=\"d3-cell-3\">\n",
       "\n",
       "<g></g>\n",
       "\n",
       "<style>\n",
       "element {\n",
       "    height: 25px;\n",
       "}\n",
       "div.bar {\n",
       "    display: inline-block;\n",
       "    width: 20px;\n",
       "    height: 75px;\n",
       "    margin-right: 2px;\n",
       "    background-color: teal;\n",
       "}\n",
       "</style>\n",
       "\n",
       "<script>\n",
       "var dataset = [ 5, 10, 13, 19, 21, 25, 22, 18, 15, 13,\n",
       "                11, 12, 15, 20, 18, 17, 16, 18, 23, 25 ];\n",
       "\n",
       "d3.select3(\"g\").selectAll(\"div\")\n",
       "    .data(dataset)\n",
       "    .enter()\n",
       "    .append(\"div\")\n",
       "    .attr(\"class\", \"bar\")\n",
       "    .style(\"height\", function(d) {\n",
       "        var barHeight = d * 5;\n",
       "        return barHeight + \"px\";\n",
       "    });\n",
       "</script>\n",
       "</g>"
      ],
      "text/plain": [
       "<IPython.core.display.HTML object>"
      ]
     },
     "metadata": {},
     "output_type": "display_data"
    }
   ],
   "source": [
    "%%d3\n",
    "\n",
    "<g></g>\n",
    "\n",
    "<style>\n",
    "element {\n",
    "    height: 25px;\n",
    "}\n",
    "div.bar {\n",
    "    display: inline-block;\n",
    "    width: 20px;\n",
    "    height: 75px;\n",
    "    margin-right: 2px;\n",
    "    background-color: teal;\n",
    "}\n",
    "</style>\n",
    "\n",
    "<script>\n",
    "var dataset = [ 5, 10, 13, 19, 21, 25, 22, 18, 15, 13,\n",
    "                11, 12, 15, 20, 18, 17, 16, 18, 23, 25 ];\n",
    "\n",
    "d3.select(\"g\").selectAll(\"div\")\n",
    "    .data(dataset)\n",
    "    .enter()\n",
    "    .append(\"div\")\n",
    "    .attr(\"class\", \"bar\")\n",
    "    .style(\"height\", function(d) {\n",
    "        var barHeight = d * 5;\n",
    "        return barHeight + \"px\";\n",
    "    });\n",
    "</script>"
   ]
  },
  {
   "cell_type": "code",
   "execution_count": 13,
   "metadata": {},
   "outputs": [
    {
     "data": {
      "text/html": [
       "\n",
       "<h1>Hello DOM!</h1>\n"
      ],
      "text/plain": [
       "<IPython.core.display.HTML object>"
      ]
     },
     "execution_count": 13,
     "metadata": {},
     "output_type": "execute_result"
    }
   ],
   "source": [
    "from IPython.core.display import HTML\n",
    "HTML('''\n",
    "<h1>Hello DOM!</h1>\n",
    "''')"
   ]
  },
  {
   "cell_type": "code",
   "execution_count": 15,
   "metadata": {},
   "outputs": [
    {
     "data": {
      "text/html": [
       "\n",
       "   <div class=\"legend\">SVG circle with animation - to see it again, refresh the browser:</div>   \n",
       "   <div id=\"bogo_animation\"></div>\n",
       "     <script type=\"text/javascript\">\n",
       "       var bogoSVG = d3.select(\"#bogo_animation\")\n",
       "          .append(\"svg\")\n",
       "          .attr(\"width\", 300)\n",
       "          .attr(\"height\", 300);    \n",
       "\n",
       "       bogoSVG.append(\"circle\")\n",
       "          .style(\"stroke\", \"gray\")\n",
       "          .style(\"fill\", \"cyan\")\n",
       "          .attr(\"r\", 130)\n",
       "          .attr(\"cx\", 150)\n",
       "          .attr(\"cy\", 150)\n",
       "          .transition()\n",
       "             .delay(100)\n",
       "             .duration(10000)  \n",
       "             .attr(\"r\", 10)\n",
       "             .attr(\"cx\", 150)\n",
       "             .style(\"fill\", \"blue\"); \n",
       "\n",
       "     </script>\n"
      ],
      "text/plain": [
       "<IPython.core.display.HTML object>"
      ]
     },
     "execution_count": 15,
     "metadata": {},
     "output_type": "execute_result"
    }
   ],
   "source": [
    "HTML('<script src=\"lib/d3/d3.min.js\"></script>')\n",
    "HTML('''\n",
    "   <div class=\"legend\">SVG circle with animation - to see it again, refresh the browser:</div>   \n",
    "   <div id=\"bogo_animation\"></div>\n",
    "     <script type=\"text/javascript\">\n",
    "       var bogoSVG = d3.select(\"#bogo_animation\")\n",
    "          .append(\"svg\")\n",
    "          .attr(\"width\", 300)\n",
    "          .attr(\"height\", 300);    \n",
    "\n",
    "       bogoSVG.append(\"circle\")\n",
    "          .style(\"stroke\", \"gray\")\n",
    "          .style(\"fill\", \"cyan\")\n",
    "          .attr(\"r\", 130)\n",
    "          .attr(\"cx\", 150)\n",
    "          .attr(\"cy\", 150)\n",
    "          .transition()\n",
    "             .delay(100)\n",
    "             .duration(10000)  \n",
    "             .attr(\"r\", 10)\n",
    "             .attr(\"cx\", 150)\n",
    "             .style(\"fill\", \"blue\"); \n",
    "\n",
    "     </script>\n",
    "''')"
   ]
  },
  {
   "cell_type": "code",
   "execution_count": null,
   "metadata": {
    "collapsed": true
   },
   "outputs": [],
   "source": []
  }
 ],
 "metadata": {
  "anaconda-cloud": {},
  "kernelspec": {
   "display_name": "Python [default]",
   "language": "python",
   "name": "python3"
  },
  "language_info": {
   "codemirror_mode": {
    "name": "ipython",
    "version": 3
   },
   "file_extension": ".py",
   "mimetype": "text/x-python",
   "name": "python",
   "nbconvert_exporter": "python",
   "pygments_lexer": "ipython3",
   "version": "3.6.1"
  }
 },
 "nbformat": 4,
 "nbformat_minor": 1
}
